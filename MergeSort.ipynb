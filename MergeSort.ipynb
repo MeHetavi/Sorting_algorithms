{
 "cells": [
  {
   "cell_type": "code",
   "execution_count": 2,
   "metadata": {},
   "outputs": [
    {
     "name": "stdout",
     "output_type": "stream",
     "text": [
      "[1, 2, 3, 4, 5]\n"
     ]
    }
   ],
   "source": [
    "def merge(a,b): # Returns sorted(a+b).\n",
    "    c = []\n",
    "    len_c = len(a+b)\n",
    "    i = 0\n",
    "    j = 0\n",
    "    len_a = len(a)\n",
    "    len_b = len(b)\n",
    "    for k in range(len_c):\n",
    "        if i == len_a:\n",
    "            c = c + b[j:]\n",
    "            break\n",
    "        elif j == len_b:\n",
    "            c = c + a[i:]\n",
    "            break\n",
    "        elif a[i]>b[j]:\n",
    "            c = c + [b[j]]\n",
    "            j+=1\n",
    "        else:\n",
    "            c = c + [a[i]]\n",
    "            i+=1 \n",
    "    return c\n",
    "\n",
    "def main():\n",
    "    unsorted_list = [5,4,3,2,1]\n",
    "    print(partition(unsorted_list))\n",
    "\n",
    "def partition(unsorted_list): # Patitions the list until there is only 1 element left in the list and then rturnes the sorted merged list.\n",
    "    length = len(unsorted_list)\n",
    "    if length == 0 or length==1:\n",
    "        return unsorted_list # Base case.\n",
    "    else:\n",
    "        mid = length//2\n",
    "        a = partition(unsorted_list[:mid])# first half of Unsorted_list \n",
    "        b = partition(unsorted_list[mid:])# Second half of Unsorted_list \n",
    "        return merge(a,b)# sorted two halves along with combining them.\n",
    "main()"
   ]
  }
 ],
 "metadata": {
  "kernelspec": {
   "display_name": "base",
   "language": "python",
   "name": "python3"
  },
  "language_info": {
   "codemirror_mode": {
    "name": "ipython",
    "version": 3
   },
   "file_extension": ".py",
   "mimetype": "text/x-python",
   "name": "python",
   "nbconvert_exporter": "python",
   "pygments_lexer": "ipython3",
   "version": "3.11.5"
  }
 },
 "nbformat": 4,
 "nbformat_minor": 2
}
